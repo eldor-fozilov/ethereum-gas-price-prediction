{
 "cells": [
  {
   "cell_type": "code",
   "execution_count": 1,
   "id": "87907c82-9a9e-440f-811a-64300646bf4b",
   "metadata": {},
   "outputs": [],
   "source": [
    "import pandas as pd\n",
    "import numpy as np\n",
    "import matplotlib.pyplot as plt"
   ]
  },
  {
   "cell_type": "code",
   "execution_count": 27,
   "id": "428b660b-3dfd-42d8-8f62-4ad02994c9f6",
   "metadata": {},
   "outputs": [],
   "source": [
    "average_gas = pd.read_csv('average_gas.csv')\n",
    "average_gas_90days = pd.read_csv('average_gas_90days.csv')"
   ]
  },
  {
   "cell_type": "code",
   "execution_count": null,
   "id": "42bbbcdf-7ec9-48a8-acfb-620a51d8b5c7",
   "metadata": {},
   "outputs": [],
   "source": []
  }
 ],
 "metadata": {
  "kernelspec": {
   "display_name": "Python 3 (ipykernel)",
   "language": "python",
   "name": "python3"
  },
  "language_info": {
   "codemirror_mode": {
    "name": "ipython",
    "version": 3
   },
   "file_extension": ".py",
   "mimetype": "text/x-python",
   "name": "python",
   "nbconvert_exporter": "python",
   "pygments_lexer": "ipython3",
   "version": "3.9.13"
  }
 },
 "nbformat": 4,
 "nbformat_minor": 5
}
